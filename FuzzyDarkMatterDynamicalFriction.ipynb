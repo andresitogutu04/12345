{
 "cells": [
  {
   "cell_type": "code",
   "execution_count": null,
   "id": "a69b60ec",
   "metadata": {},
   "outputs": [],
   "source": [
    "import numpy as np\n",
    "import matplotlib.pyplot as plt\n",
    "from astropy import units as u\n",
    "from astropy.constants import G\n",
    "from galpy.potential import (\n",
    "    NFWPotential,\n",
    "    ChandrasekharDynamicalFrictionForce,\n",
    "    FDMDynamicalFrictionForce,\n",
    ")\n",
    "from galpy.orbit import Orbit\n",
    "\n",
    "G = G.to(u.kpc / u.Msun * (u.km / u.s) ** 2).value"
   ]
  },
  {
   "cell_type": "markdown",
   "id": "c8b8cfc3",
   "metadata": {},
   "source": [
    "[Hui and al. 2017](https://arxiv.org/pdf/1610.08297) have derived the equations of quantum-mechanical treatment of the dynamical friction force. I propose here a new `Python` class to integrate orbits using these theoretical relations with `galpy`."
   ]
  },
  {
   "cell_type": "markdown",
   "id": "205ca7db",
   "metadata": {},
   "source": [
    "# Creating a dwarf galaxy dark matter halo potential"
   ]
  },
  {
   "cell_type": "code",
   "execution_count": null,
   "id": "7417bec6",
   "metadata": {},
   "outputs": [],
   "source": [
    "M = 1e9  # Msol\n",
    "rs = 1.57  # kpc\n",
    "c = 18.4\n",
    "\n",
    "A_NFW = np.log(1 + c) - c / (1 + c)\n",
    "\n",
    "NFWHalo = NFWPotential(amp=M / A_NFW * u.Msun, a=rs * u.kpc)"
   ]
  },
  {
   "cell_type": "markdown",
   "id": "ce3f0b83",
   "metadata": {},
   "source": [
    "# Initialize a globular cluster object"
   ]
  },
  {
   "cell_type": "code",
   "execution_count": null,
   "id": "a6d44f15",
   "metadata": {},
   "outputs": [],
   "source": [
    "Mobj = 1e6  # Msol\n",
    "rhm = 1e-2  # kpc"
   ]
  },
  {
   "cell_type": "markdown",
   "id": "ae724572",
   "metadata": {},
   "source": [
    "### Dynamical friction"
   ]
  },
  {
   "cell_type": "code",
   "execution_count": null,
   "id": "a3fa77c8",
   "metadata": {},
   "outputs": [],
   "source": [
    "cdf = ChandrasekharDynamicalFrictionForce(\n",
    "    GMs=Mobj * u.Msun, rhm=rhm * u.kpc, dens=NFWHalo\n",
    ")"
   ]
  },
  {
   "cell_type": "markdown",
   "id": "ee782fe1",
   "metadata": {},
   "source": [
    "# Initialize the orbit"
   ]
  },
  {
   "cell_type": "code",
   "execution_count": null,
   "id": "53f799be",
   "metadata": {},
   "outputs": [],
   "source": [
    "# initial conditions\n",
    "R = 0.5\n",
    "z = 0.0\n",
    "phi = 0.0\n",
    "Menclosed = NFWHalo.mass(R * u.kpc)\n",
    "vR = 0.0\n",
    "vT = np.sqrt(G * Menclosed / R)  # km/s\n",
    "vz = 0.0\n",
    "\n",
    "o = Orbit(\n",
    "    [\n",
    "        R * u.kpc,\n",
    "        vR * u.km / u.s,\n",
    "        vT * u.km / u.s,\n",
    "        z * u.kpc,\n",
    "        vz * u.km / u.s,\n",
    "        phi * u.rad,\n",
    "    ]\n",
    ")\n",
    "o_cdf = o()  # copy of orbit for dynamical friction\n",
    "o_fdf = o()  # copy of orbit for fuzzy dynamical friction"
   ]
  },
  {
   "cell_type": "markdown",
   "id": "e668f60c",
   "metadata": {},
   "source": [
    "# Integrate"
   ]
  },
  {
   "cell_type": "code",
   "execution_count": null,
   "id": "d8a0e149",
   "metadata": {},
   "outputs": [],
   "source": [
    "t = np.linspace(0, 1, 300) * u.Gyr\n",
    "o.integrate(t, NFWHalo, method=\"odeint\")\n",
    "o_cdf.integrate(t, NFWHalo + cdf, method=\"odeint\")"
   ]
  },
  {
   "cell_type": "markdown",
   "id": "9cb2374c",
   "metadata": {},
   "source": [
    "# Integrating orbits with Fuzzy Dark Matter (FDM) dynamical friction"
   ]
  },
  {
   "cell_type": "markdown",
   "id": "6184b058",
   "metadata": {},
   "source": [
    "The classical dynamical friction force used by `galpy` reads :\n",
    "\n",
    "$$\\vec{F}(\\vec{x}, \\vec{v}) = -4\\pi \\left[ \\mathcal{G} M_{\\rm obj}² \\right] \\left[ \\mathcal{G} \\rho(\\vec{x}) \\right] \\ln \\Lambda \\left[ \\mathrm{erf}(X) - \\frac{2X}{\\sqrt{\\pi}} \\exp \\left( -X^2 \\right) \\right] \\frac{\\vec{v}}{|\\vec{v}|^3}\n",
    "$$\n",
    "Using $X = \\frac{|\\vec{v}|}{\\sqrt 2 \\sigma(r)}$. And where \n",
    "$$\\Lambda = \\frac{r/\\gamma}{\\max(r_{\\mathrm{hm}}, \\mathcal{G}M/|\\vec{v}|^2)}$$\n",
    "Fuzzy dark matter model modifies the dynamical friction force according to the following relation : \n",
    "$$\\vec{F}_\\text{FDM} = -\\frac{4\\pi\\mathcal{G}^2M_\\text{obj}^2\\rho(\\vec{x})}{v^3}C_{\\rm FDM}(kr)\\vec{v}$$\n",
    "Where the coefficient $C_{\\rm FDM}(kr)$ depends on $kr=\\frac{mvr}{\\hbar}$ and reads : \n",
    "$$C_{\\rm FDM}(kr) = \\text{Cin}(2kr)+\\frac{\\sin{(2kr)}}{2kr}-1$$\n",
    "With\n",
    "$$\\text{Cin}(z) = \\int_0^z\\frac{1-\\cos{(t)}}{t}\\mathrm{d}t$$\n",
    "\n",
    "Looking at the classical relation for dynamical friction, the equivalent of the coefficient $C(kr)$ in CDM scenario is : \n",
    "$$ C_{\\rm CDM} =\\ln \\Lambda \\left[ \\mathrm{erf}(X) - \\frac{2X}{\\sqrt{\\pi}} \\exp \\left( -X^2 \\right) \\right]$$\n",
    "\n",
    "Since the FDM coefficient $C_{\\rm FDM}(kr)$ has an asymptotic behavior, we must use the classical coefficient $C_{\\rm CDM}$ as a cutoff whenever $C_{\\rm FDM}(kr) \\gt C_{\\rm CDM}$, because it would mean that we are in the classical regime. This implemented in the class below, on the same model as `galpy` class `ChandrasekharDynamicalFrictionForce`."
   ]
  },
  {
   "cell_type": "code",
   "execution_count": null,
   "id": "f08063e5",
   "metadata": {},
   "outputs": [],
   "source": [
    "m = 3e-22  # mass of the fuzzy particle in eV\n",
    "fdf = FDMDynamicalFrictionForce(\n",
    "    GMs=Mobj * u.Msun, rhm=rhm * u.kpc, dens=NFWHalo, m=m * u.eV\n",
    ")"
   ]
  },
  {
   "cell_type": "code",
   "execution_count": null,
   "id": "6d78fbf9",
   "metadata": {},
   "outputs": [],
   "source": [
    "o_fdf.integrate(t, NFWHalo + fdf, method=\"odeint\")"
   ]
  },
  {
   "cell_type": "code",
   "execution_count": null,
   "id": "c2e5a3a1",
   "metadata": {},
   "outputs": [],
   "source": [
    "plt.figure(figsize=(10, 4))\n",
    "\n",
    "plt.subplot(121)\n",
    "plt.plot(o.x(t), o.y(t), label=\"No DF\")\n",
    "plt.plot(o_cdf.x(t), o_cdf.y(t), label=\"DF\")\n",
    "plt.plot(o_fdf.x(t), o_fdf.y(t), label=\"Fuzzy DF\")\n",
    "plt.xlabel(\"x [kpc]\", fontsize=14, fontweight=\"bold\")\n",
    "plt.ylabel(\"y [kpc]\", fontsize=14, fontweight=\"bold\")\n",
    "plt.gca().set_facecolor(\"whitesmoke\")\n",
    "plt.grid(True, which=\"both\", linestyle=\"--\", linewidth=0.7, alpha=0.7)\n",
    "plt.legend(fontsize=12)\n",
    "\n",
    "plt.subplot(122)\n",
    "plt.plot(t, o.R(t), label=\"No DF\")\n",
    "plt.plot(t, o_cdf.R(t), label=\"DF\")\n",
    "plt.plot(t, o_fdf.R(t), label=\"Fuzzy DF\")\n",
    "plt.xlabel(\"t [Gyr]\", fontsize=14, fontweight=\"bold\")\n",
    "plt.ylabel(\"R [kpc]\", fontsize=14, fontweight=\"bold\")\n",
    "plt.legend(fontsize=12)\n",
    "plt.tight_layout(pad=2.5)\n",
    "plt.subplots_adjust(left=0.1, right=0.9, top=0.9, bottom=0.1, wspace=0.3)\n",
    "plt.gca().set_facecolor(\"whitesmoke\")\n",
    "plt.grid(True, which=\"both\", linestyle=\"--\", linewidth=0.7, alpha=0.7)\n",
    "\n",
    "plt.suptitle(\"Dynamical Friction in NFW halo\", fontsize=16, fontweight=\"bold\")\n",
    "plt.show()"
   ]
  },
  {
   "cell_type": "markdown",
   "id": "04fb39f4",
   "metadata": {},
   "source": [
    "We can clearly see that Fuzzy dark matter dynamical friction is weaker than its classical version. "
   ]
  },
  {
   "cell_type": "markdown",
   "id": "34fd9a7d",
   "metadata": {},
   "source": [
    "# Analytical test"
   ]
  },
  {
   "cell_type": "markdown",
   "id": "8771e226",
   "metadata": {},
   "source": [
    "In the limit $kr\\ll 1$ : the FDM coefficient reduces to $C(kr)\\approx \\frac{1}{3} (kr)^2= \\frac{1}{3}(\\frac{m}{\\hbar})^2 v^2r^2$ \n",
    "\n",
    "Plugged into the FDM friction force : \n",
    "$$||\\vec{F}_\\text{FDM}|| =\\frac{4\\pi\\mathcal{G}^2M_\\text{obj}^2\\rho(r)}{3}\\left(\\frac{m}{\\hbar}\\right)^2r^2 $$\n",
    "\n",
    "Using isothermal sphere $ \\rho(r) = \\frac{v^2}{4\\pi\\mathcal{G}r^2}$ :\n",
    "$$ ||\\vec{F}_\\text{FDM}|| = \\mathcal{G}M_\\text{obj}^2v^2\\frac{1}{3}\\left(\\frac{m}{\\hbar}\\right)^2$$\n",
    "\n",
    "The equation of motion derived from angular momentum derivative, assuming circular orbit with constant $v$, reads : \n",
    "$$ \\frac{\\mathrm{d}r}{\\mathrm{dt}} = - \\frac{\\mathcal{G}M_\\text{obj}v}{3}\\left(\\frac{m}{\\hbar}\\right)^2r$$\n",
    "\n",
    "Which admit an analytical solution : \n",
    "$$ r(t) = r_0 e^{-t/\\tau}$$\n",
    "Where $\\tau = \\frac{3}{\\mathcal{G}M_\\text{obj}v}\\left(\\frac{\\hbar}{m}\\right)^2$"
   ]
  },
  {
   "cell_type": "code",
   "execution_count": null,
   "id": "9fdb82c9",
   "metadata": {},
   "outputs": [],
   "source": [
    "from galpy.orbit import Orbit\n",
    "from galpy.util import conversion\n",
    "\n",
    "ro, vo = 8.0, 220.0\n",
    "# Parameters\n",
    "GMs = 10.0**6.0 / conversion.mass_in_msol(vo, ro)\n",
    "r0 = 0.002\n",
    "vc = 1.0\n",
    "m = 1e-99\n",
    "mhbar = (\n",
    "    conversion.parse_mass(m, ro=ro, vo=vo)\n",
    "    / conversion._GHBARINKM3S3KPC2\n",
    "    * ro**2\n",
    "    * vo**3\n",
    ")\n",
    "\n",
    "tau_pred = 3 / (GMs * vc * (mhbar) ** 2)  # analytical orbital time\n",
    "t = np.linspace(0.0, 2 * tau_pred, 1001)\n",
    "r_pred = r0 * np.exp(-t / tau_pred)  # analytical solution\n",
    "\n",
    "from galpy.potential import LogarithmicHaloPotential, FDMDynamicalFrictionForce\n",
    "\n",
    "Loghalo = LogarithmicHaloPotential(normalize=1.0)\n",
    "o = Orbit([r0, 0.0, vc, 0.0, 0.0, 0.0])\n",
    "fdf = FDMDynamicalFrictionForce(GMs=GMs, dens=Loghalo, m=m)\n",
    "o.integrate(t, Loghalo + fdf, method=\"dop853_c\")"
   ]
  },
  {
   "cell_type": "code",
   "execution_count": null,
   "id": "c7f58ee4",
   "metadata": {},
   "outputs": [],
   "source": [
    "# check kr value\n",
    "print(\"kr value: \", fdf.krValue(r0, vc))"
   ]
  },
  {
   "cell_type": "code",
   "execution_count": null,
   "id": "d4b6a3f0",
   "metadata": {},
   "outputs": [],
   "source": [
    "plt.figure(figsize=(10, 4))\n",
    "\n",
    "plt.plot(t * conversion.time_in_Gyr(vo, ro), o.R(t) * ro, label=\"Fuzzy DF integration\")\n",
    "plt.plot(\n",
    "    t * conversion.time_in_Gyr(vo, ro),\n",
    "    r_pred * ro,\n",
    "    label=\"Fuzzy DF prediction\",\n",
    "    lw=2,\n",
    "    ls=\"--\",\n",
    ")\n",
    "plt.xlabel(\"t [Gyr]\", fontsize=14, fontweight=\"bold\")\n",
    "plt.ylabel(\"R [kpc]\", fontsize=14, fontweight=\"bold\")\n",
    "plt.legend(fontsize=12)\n",
    "plt.tight_layout(pad=2.5)\n",
    "plt.subplots_adjust(left=0.1, right=0.9, top=0.9, bottom=0.1, wspace=0.3)\n",
    "plt.gca().set_facecolor(\"whitesmoke\")\n",
    "plt.grid(True, which=\"both\", linestyle=\"--\", linewidth=0.7, alpha=0.7)\n",
    "\n",
    "plt.suptitle(\"Dynamical Friction in NFW halo\", fontsize=16, fontweight=\"bold\")\n",
    "plt.show()"
   ]
  },
  {
   "cell_type": "markdown",
   "id": "569862c0",
   "metadata": {},
   "source": [
    "## Analytical test with constant $C_\\mathrm{FDM}$"
   ]
  },
  {
   "cell_type": "code",
   "execution_count": null,
   "id": "9f08dc4d",
   "metadata": {},
   "outputs": [],
   "source": [
    "from scipy import special as sp\n",
    "\n",
    "ro, vo = 8.0, 220.0\n",
    "# Parameters\n",
    "GMs = 10.0**6.0 / conversion.mass_in_msol(vo, ro)\n",
    "r0 = 0.1\n",
    "vc = 1.0\n",
    "m = 1e-99\n",
    "mhbar = (\n",
    "    conversion.parse_mass(m, ro=ro, vo=vo)\n",
    "    / conversion._GHBARINKM3S3KPC2\n",
    "    * ro**2\n",
    "    * vo**3\n",
    ")\n",
    "const_kr = mhbar * r0 * vc\n",
    "const_FDMfactor = (\n",
    "    -sp.sici(const_kr)[1]\n",
    "    + np.log(const_kr)\n",
    "    + np.euler_gamma\n",
    "    + (np.sin(const_kr) / (const_kr))\n",
    "    - 1\n",
    ")\n",
    "tau_pred = vc * r0**2 / (2 * GMs * const_FDMfactor)  # analytical orbital time\n",
    "t = np.linspace(0.0, 0.99 * tau_pred, 1001)\n",
    "r_pred = np.sqrt(-2 * GMs * const_FDMfactor * t / vc + r0**2)  # analytical solution\n",
    "\n",
    "from galpy.potential import LogarithmicHaloPotential, FDMDynamicalFrictionForce\n",
    "\n",
    "Loghalo = LogarithmicHaloPotential(normalize=1.0)\n",
    "\n",
    "o = Orbit([r0, 0.0, vc, 0.0, 0.0, 0.0])\n",
    "fdf = FDMDynamicalFrictionForce(\n",
    "    GMs=GMs, dens=Loghalo, m=m, const_FDMfactor=const_FDMfactor\n",
    ")\n",
    "o.integrate(t, Loghalo + fdf, method=\"dop853\")"
   ]
  },
  {
   "cell_type": "code",
   "execution_count": null,
   "id": "a7ad7748",
   "metadata": {},
   "outputs": [],
   "source": [
    "plt.figure(figsize=(10, 4))\n",
    "\n",
    "plt.plot(t * conversion.time_in_Gyr(vo, ro), o.R(t) * ro, label=\"Fuzzy DF integration\")\n",
    "plt.plot(\n",
    "    t * conversion.time_in_Gyr(vo, ro),\n",
    "    r_pred * ro,\n",
    "    label=\"Fuzzy DF prediction\",\n",
    "    lw=2,\n",
    "    ls=\"--\",\n",
    ")\n",
    "plt.xlabel(\"t [Gyr]\", fontsize=14, fontweight=\"bold\")\n",
    "plt.ylabel(\"R [kpc]\", fontsize=14, fontweight=\"bold\")\n",
    "plt.legend(fontsize=12)\n",
    "plt.tight_layout(pad=2.5)\n",
    "plt.subplots_adjust(left=0.1, right=0.9, top=0.9, bottom=0.1, wspace=0.3)\n",
    "plt.gca().set_facecolor(\"whitesmoke\")\n",
    "plt.grid(True, which=\"both\", linestyle=\"--\", linewidth=0.7, alpha=0.7)\n",
    "\n",
    "plt.suptitle(\"Dynamical Friction in NFW halo\", fontsize=16, fontweight=\"bold\")\n",
    "plt.show()"
   ]
  }
 ],
 "metadata": {
  "kernelspec": {
   "display_name": ".venv",
   "language": "python",
   "name": "python3"
  },
  "language_info": {
   "codemirror_mode": {
    "name": "ipython",
    "version": 3
   },
   "file_extension": ".py",
   "mimetype": "text/x-python",
   "name": "python",
   "nbconvert_exporter": "python",
   "pygments_lexer": "ipython3",
   "version": "3.12.7"
  }
 },
 "nbformat": 4,
 "nbformat_minor": 5
}
